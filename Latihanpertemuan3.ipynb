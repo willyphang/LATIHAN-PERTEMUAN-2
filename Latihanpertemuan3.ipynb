{
  "nbformat": 4,
  "nbformat_minor": 0,
  "metadata": {
    "colab": {
      "provenance": []
    },
    "kernelspec": {
      "name": "python3",
      "display_name": "Python 3"
    },
    "language_info": {
      "name": "python"
    }
  },
  "cells": [
    {
      "cell_type": "code",
      "execution_count": 27,
      "metadata": {
        "colab": {
          "base_uri": "https://localhost:8080/"
        },
        "id": "7KXVCAS0I7NV",
        "outputId": "1d7f9360-6dbc-47f7-ed96-00f8c48e70bb"
      },
      "outputs": [
        {
          "output_type": "stream",
          "name": "stdout",
          "text": [
            "['Willy', 20, 'Tangsel', True]\n"
          ]
        }
      ],
      "source": [
        "#List\n",
        "aList = [\"Willy\",20,\"Tangsel\",True]\n",
        "print(aList)\n",
        ""
      ]
    },
    {
      "cell_type": "code",
      "source": [
        "aList = [\"Mahasiswa\",\"Willy Phang Giean Restu\",2022071024,\"Informatika\",\"Desain dan Analisis Algoritma\",\"13-09-2023\",\"Universitas Pembangunan Jaya\"]\n",
        "print(aList)"
      ],
      "metadata": {
        "colab": {
          "base_uri": "https://localhost:8080/"
        },
        "id": "iBmdV72bT4Je",
        "outputId": "8ebb1f09-3fd4-4439-b032-fd3e63465d35"
      },
      "execution_count": 33,
      "outputs": [
        {
          "output_type": "stream",
          "name": "stdout",
          "text": [
            "['Mahasiswa', 'Willy Phang Giean Restu', 2022071024, 'Informatika', 'Desain dan Analisis Algoritma', '13-09-2023', 'Universitas Pembangunan Jaya']\n"
          ]
        }
      ]
    },
    {
      "cell_type": "code",
      "source": [
        "bin_colors=['Red','Green','Blue','Yellow']\n",
        "bin_colors[2]\n"
      ],
      "metadata": {
        "colab": {
          "base_uri": "https://localhost:8080/",
          "height": 36
        },
        "id": "n2GPgvR9PKEN",
        "outputId": "b04ff5d9-0f37-4538-bb09-0eb8a65ae03a"
      },
      "execution_count": 23,
      "outputs": [
        {
          "output_type": "execute_result",
          "data": {
            "text/plain": [
              "'Blue'"
            ],
            "application/vnd.google.colaboratory.intrinsic+json": {
              "type": "string"
            }
          },
          "metadata": {},
          "execution_count": 23
        }
      ]
    },
    {
      "cell_type": "code",
      "source": [
        "bin_alist=[\"Mahasiswa\",\"Willy\",2022071024]\n",
        "bin_alist[2]"
      ],
      "metadata": {
        "colab": {
          "base_uri": "https://localhost:8080/"
        },
        "id": "_jN0erSdJBsj",
        "outputId": "7c5db233-21be-4b24-a9aa-5581843fb509"
      },
      "execution_count": 24,
      "outputs": [
        {
          "output_type": "execute_result",
          "data": {
            "text/plain": [
              "2021071018"
            ]
          },
          "metadata": {},
          "execution_count": 24
        }
      ]
    },
    {
      "cell_type": "code",
      "source": [
        "bin_alist=[\"Mahasiswa\",\"Willy\",2022071024]\n",
        "bin_alist[1]"
      ],
      "metadata": {
        "colab": {
          "base_uri": "https://localhost:8080/",
          "height": 36
        },
        "id": "GSBOyvFqSutN",
        "outputId": "772751b4-b00e-4fd6-e4f8-5d740ecb2303"
      },
      "execution_count": 26,
      "outputs": [
        {
          "output_type": "execute_result",
          "data": {
            "text/plain": [
              "'Willy'"
            ],
            "application/vnd.google.colaboratory.intrinsic+json": {
              "type": "string"
            }
          },
          "metadata": {},
          "execution_count": 26
        }
      ]
    },
    {
      "cell_type": "code",
      "source": [
        "aList[6]"
      ],
      "metadata": {
        "colab": {
          "base_uri": "https://localhost:8080/",
          "height": 36
        },
        "id": "wmfBII10UVWD",
        "outputId": "86b17a7d-d293-4978-b102-013b6c995c53"
      },
      "execution_count": 30,
      "outputs": [
        {
          "output_type": "execute_result",
          "data": {
            "text/plain": [
              "'Universitas Pembangunan Jaya'"
            ],
            "application/vnd.google.colaboratory.intrinsic+json": {
              "type": "string"
            }
          },
          "metadata": {},
          "execution_count": 30
        }
      ]
    },
    {
      "cell_type": "code",
      "source": [
        "\n",
        "aList[2:4]"
      ],
      "metadata": {
        "colab": {
          "base_uri": "https://localhost:8080/"
        },
        "id": "ht5eQ5N6VrjS",
        "outputId": "33015071-7916-461c-bfcb-bfb54fb01614"
      },
      "execution_count": 32,
      "outputs": [
        {
          "output_type": "execute_result",
          "data": {
            "text/plain": [
              "[2022071024, 'Informatika']"
            ]
          },
          "metadata": {},
          "execution_count": 32
        }
      ]
    },
    {
      "cell_type": "code",
      "source": [
        "bin_colors=['Red','Green','Blue','Yellow']\n",
        "for aColor in bin_colors:\n",
        "\tprint(aColor + \" Square\")"
      ],
      "metadata": {
        "colab": {
          "base_uri": "https://localhost:8080/"
        },
        "id": "H6L6hoAJXV5P",
        "outputId": "a81f8a22-7625-4ec1-c808-4daa12567328"
      },
      "execution_count": 34,
      "outputs": [
        {
          "output_type": "stream",
          "name": "stdout",
          "text": [
            "Red Square\n",
            "Green Square\n",
            "Blue Square\n",
            "Yellow Square\n"
          ]
        }
      ]
    },
    {
      "cell_type": "code",
      "source": [
        "bin_alist=[\"Mahasiswa\",\"Willy Phang Giean Restu\",2022071024,\"Informatika\",\"Desain dan Analisis Algoritma\",\"13-09-2023\",\"Universitas Pembangunan Jaya\"]\n",
        "  for adataMahasiswa in bin_alist:\n",
        "    print"
      ],
      "metadata": {
        "colab": {
          "base_uri": "https://localhost:8080/",
          "height": 140
        },
        "id": "D3M9AznwX6Dw",
        "outputId": "e160bace-5c22-490f-ee00-5d7ccb4dbf8f"
      },
      "execution_count": 44,
      "outputs": [
        {
          "output_type": "error",
          "ename": "IndentationError",
          "evalue": "ignored",
          "traceback": [
            "\u001b[0;36m  File \u001b[0;32m\"<ipython-input-44-19d3639dbbd2>\"\u001b[0;36m, line \u001b[0;32m3\u001b[0m\n\u001b[0;31m    print(adataMahasiswa + \"Square\" )\u001b[0m\n\u001b[0m                                     ^\u001b[0m\n\u001b[0;31mIndentationError\u001b[0m\u001b[0;31m:\u001b[0m expected an indented block after 'for' statement on line 2\n"
          ]
        }
      ]
    },
    {
      "cell_type": "code",
      "source": [
        "aList = [\"Mahasiswa\",\"Willy Phang Giean Restu\",2022071024,\"Informatika\",\"Desain dan Analisis Algoritma\",\"13-09-2023\",\"Universitas Pembangunan Jaya\"]\n",
        "print(aList)\n",
        "for dataMahasiswa in bin_alist:\n",
        "  print(\"UPJ\" , dataMahasiswa)"
      ],
      "metadata": {
        "colab": {
          "base_uri": "https://localhost:8080/"
        },
        "id": "n7uIYfVTaZqm",
        "outputId": "018eb2b2-d7c9-492d-8c05-5d1ac5040a2b"
      },
      "execution_count": 46,
      "outputs": [
        {
          "output_type": "stream",
          "name": "stdout",
          "text": [
            "['Mahasiswa', 'Willy Phang Giean Restu', 2022071024, 'Informatika', 'Desain dan Analisis Algoritma', '13-09-2023', 'Universitas Pembangunan Jaya']\n",
            "UPJ Mahasiswa\n",
            "UPJ Willy\n",
            "UPJ 2021071018\n"
          ]
        }
      ]
    },
    {
      "cell_type": "code",
      "source": [
        "import numpy as np\n",
        "import datetime\n",
        "tanggal = datetime.date.today ()\n",
        "\n",
        "\n",
        "aList_nama = [\"Willy Phang Giean Restu\",  \"2022071024\", \"Informatika\", \"Desain Analisis Algoritma\", str(tanggal), \"Universitas Pembangunan Jaya\"]\n",
        "for Mahasiswa in aList_nama:\n",
        "    print(\"UPJ \" + Mahasiswa) #UNTUK MENAMBAH KATA \"UPJ\" KE DALAM LIST YANG SUDAH DIBUAT"
      ],
      "metadata": {
        "colab": {
          "base_uri": "https://localhost:8080/"
        },
        "id": "JgVoxrmYbPH5",
        "outputId": "f1cfcf52-c1ee-44a3-d604-e9d3fcd110d8"
      },
      "execution_count": 47,
      "outputs": [
        {
          "output_type": "stream",
          "name": "stdout",
          "text": [
            "UPJ Willy Phang Giean Restu\n",
            "UPJ 2022071024\n",
            "UPJ Informatika\n",
            "UPJ Desain Analisis Algoritma\n",
            "UPJ 2023-09-13\n",
            "UPJ Universitas Pembangunan Jaya\n"
          ]
        }
      ]
    },
    {
      "cell_type": "code",
      "source": [
        "#Nested Tuple\n",
        "nested_tuple = ([100],[200,400,600],[300],[400,800])\n",
        "print(nested_tuple)"
      ],
      "metadata": {
        "colab": {
          "base_uri": "https://localhost:8080/"
        },
        "id": "Cw_0kA6FkeWB",
        "outputId": "9cf920fe-c171-4769-8c33-7bc027526a13"
      },
      "execution_count": 48,
      "outputs": [
        {
          "output_type": "stream",
          "name": "stdout",
          "text": [
            "([100], [200, 400, 600], [300], [400, 800])\n"
          ]
        }
      ]
    },
    {
      "cell_type": "code",
      "source": [
        "#Dictionary\n",
        "bin_colors=('Red','Green','Blue','Yellow')\n",
        "bin_colors[1]\n",
        "'Green'\n",
        "bin_colors[2:]\n",
        "('Blue', 'Yellow')"
      ],
      "metadata": {
        "colab": {
          "base_uri": "https://localhost:8080/"
        },
        "id": "KDV95Zj0ki20",
        "outputId": "7887d122-3828-4b18-87b5-e53c139fb2bc"
      },
      "execution_count": 54,
      "outputs": [
        {
          "output_type": "execute_result",
          "data": {
            "text/plain": [
              "('Blue', 'Yellow')"
            ]
          },
          "metadata": {},
          "execution_count": 54
        }
      ]
    },
    {
      "cell_type": "code",
      "source": [
        "#Dictionary\n",
        "bin_colors ={\n",
        "\"manual_color\": \"Yellow\",\n",
        "\"approved_color\": \"Green\",\n",
        "\"refused_color\": \"Red\"}\n",
        "\n",
        "print(bin_colors)"
      ],
      "metadata": {
        "colab": {
          "base_uri": "https://localhost:8080/"
        },
        "id": "6QxKQAIPlTdt",
        "outputId": "e22720bc-b7c2-4df6-f5af-dc39dae309e0"
      },
      "execution_count": 50,
      "outputs": [
        {
          "output_type": "stream",
          "name": "stdout",
          "text": [
            "{'manual_color': 'Yellow', 'approved_color': 'Green', 'refused_color': 'Red'}\n"
          ]
        }
      ]
    },
    {
      "cell_type": "code",
      "source": [
        "#Dictionary\n",
        "bin_colors.get(\"approved_color\")"
      ],
      "metadata": {
        "colab": {
          "base_uri": "https://localhost:8080/",
          "height": 36
        },
        "id": "rUInHk8olWhL",
        "outputId": "b244e40c-d88f-42d5-c699-f68b74cbf2be"
      },
      "execution_count": 51,
      "outputs": [
        {
          "output_type": "execute_result",
          "data": {
            "text/plain": [
              "'Green'"
            ],
            "application/vnd.google.colaboratory.intrinsic+json": {
              "type": "string"
            }
          },
          "metadata": {},
          "execution_count": 51
        }
      ]
    },
    {
      "cell_type": "code",
      "source": [
        "bin_colors['approved_color']"
      ],
      "metadata": {
        "colab": {
          "base_uri": "https://localhost:8080/",
          "height": 36
        },
        "id": "OqCT_ecJoI9h",
        "outputId": "87626688-9179-4391-db68-2e608d45fb5f"
      },
      "execution_count": 52,
      "outputs": [
        {
          "output_type": "execute_result",
          "data": {
            "text/plain": [
              "'Green'"
            ],
            "application/vnd.google.colaboratory.intrinsic+json": {
              "type": "string"
            }
          },
          "metadata": {},
          "execution_count": 52
        }
      ]
    },
    {
      "cell_type": "code",
      "source": [
        "#Dictionary\n",
        "bin_colors['approved_color']=\"Purple\"\n",
        "print(bin_colors)"
      ],
      "metadata": {
        "colab": {
          "base_uri": "https://localhost:8080/"
        },
        "id": "ElqBhz7HoV-z",
        "outputId": "da6fce6e-bfd1-404b-bc50-e62a71136c22"
      },
      "execution_count": 53,
      "outputs": [
        {
          "output_type": "stream",
          "name": "stdout",
          "text": [
            "{'manual_color': 'Yellow', 'approved_color': 'Purple', 'refused_color': 'Red'}\n"
          ]
        }
      ]
    },
    {
      "cell_type": "code",
      "source": [
        "green={'grass','leaves'}\n",
        "print(green)"
      ],
      "metadata": {
        "colab": {
          "base_uri": "https://localhost:8080/"
        },
        "id": "z_wm3eWQoq0i",
        "outputId": "c281ecd2-3c16-4562-f738-db5def25c9a5"
      },
      "execution_count": 55,
      "outputs": [
        {
          "output_type": "stream",
          "name": "stdout",
          "text": [
            "{'leaves', 'grass'}\n"
          ]
        }
      ]
    },
    {
      "cell_type": "code",
      "source": [
        "green = {}"
      ],
      "metadata": {
        "id": "JcvQPw3NqqUC"
      },
      "execution_count": null,
      "outputs": []
    }
  ]
}