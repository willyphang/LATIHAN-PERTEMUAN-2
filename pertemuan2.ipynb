{
  "nbformat": 4,
  "nbformat_minor": 0,
  "metadata": {
    "colab": {
      "provenance": []
    },
    "kernelspec": {
      "name": "python3",
      "display_name": "Python 3"
    },
    "language_info": {
      "name": "python"
    }
  },
  "cells": [
    {
      "cell_type": "code",
      "execution_count": 3,
      "metadata": {
        "colab": {
          "base_uri": "https://localhost:8080/"
        },
        "id": "wqzNQFZRXIED",
        "outputId": "36137f91-e733-42dd-b7df-64343d74b4bf"
      },
      "outputs": [
        {
          "output_type": "stream",
          "name": "stdout",
          "text": [
            "[1, 2, 3, 4, 5, 6]\n",
            "[5, 7, 9]\n"
          ]
        }
      ],
      "source": [
        "import numpy as np\n",
        "a = [1,2,3]\n",
        "b = [4,5,6]\n",
        "hasil = a + b\n",
        "print (hasil)\n",
        "def add (list_a,list_b):\n",
        "    result = []\n",
        "    for first, second in zip (list_a,list_b):\n",
        "      result.append(first+second)\n",
        "    return result\n",
        "print (add(a,b))\n"
      ]
    },
    {
      "cell_type": "code",
      "source": [
        "import numpy as np\n",
        "nilai_siswa = np.array([85,55,40,90])\n",
        "print (nilai_siswa[2])\n"
      ],
      "metadata": {
        "colab": {
          "base_uri": "https://localhost:8080/"
        },
        "id": "qZEDb9S2Xl3W",
        "outputId": "ff89bb62-7eee-4553-991a-6c4bc786aab9"
      },
      "execution_count": 4,
      "outputs": [
        {
          "output_type": "stream",
          "name": "stdout",
          "text": [
            "40\n"
          ]
        }
      ]
    },
    {
      "cell_type": "code",
      "source": [
        "def pertama(listku):\n",
        "  return listku[0]\n",
        "pertama([1,2,3])\n",
        "pertama([1,2,3,4,5,6,7,8,9])"
      ],
      "metadata": {
        "colab": {
          "base_uri": "https://localhost:8080/"
        },
        "id": "2W7mCCUzX8Or",
        "outputId": "99b57ab2-f3df-47f1-b580-f4a82ec03b55"
      },
      "execution_count": 5,
      "outputs": [
        {
          "output_type": "execute_result",
          "data": {
            "text/plain": [
              "1"
            ]
          },
          "metadata": {},
          "execution_count": 5
        }
      ]
    },
    {
      "cell_type": "code",
      "source": [
        "print(np.__version__)"
      ],
      "metadata": {
        "colab": {
          "base_uri": "https://localhost:8080/"
        },
        "id": "WGs8rna_YAAL",
        "outputId": "d2942c02-2458-4f4f-e3ce-202cdb2bc24e"
      },
      "execution_count": 6,
      "outputs": [
        {
          "output_type": "stream",
          "name": "stdout",
          "text": [
            "1.23.5\n"
          ]
        }
      ]
    },
    {
      "cell_type": "code",
      "source": [
        "print(\"Hello, World!\")\n",
        "print(\"Nama saya(willy)\")\n",
        "print(\"NIM saya(2022071024)\")"
      ],
      "metadata": {
        "colab": {
          "base_uri": "https://localhost:8080/"
        },
        "id": "9EhH_Uf2YFaB",
        "outputId": "4fd28b6e-59ab-4d78-998d-76802e731749"
      },
      "execution_count": 7,
      "outputs": [
        {
          "output_type": "stream",
          "name": "stdout",
          "text": [
            "Hello, World!\n",
            "Nama saya(willy)\n",
            "NIM saya(2022071024)\n"
          ]
        }
      ]
    },
    {
      "cell_type": "code",
      "source": [
        "if 5>2:\n",
        "  print(\"Five is greater than two!\")"
      ],
      "metadata": {
        "colab": {
          "base_uri": "https://localhost:8080/"
        },
        "id": "EYNlnWhkYM1a",
        "outputId": "efe70886-1301-4b51-dae0-6774ef6acd19"
      },
      "execution_count": 8,
      "outputs": [
        {
          "output_type": "stream",
          "name": "stdout",
          "text": [
            "Five is greater than two!\n"
          ]
        }
      ]
    },
    {
      "cell_type": "code",
      "source": [
        "x= 4\n",
        "x= \"Sally\"\n",
        "print(x)\n"
      ],
      "metadata": {
        "colab": {
          "base_uri": "https://localhost:8080/"
        },
        "id": "or-F6EAnYOwM",
        "outputId": "8a16be19-af3a-4294-82e4-71500e71c507"
      },
      "execution_count": 9,
      "outputs": [
        {
          "output_type": "stream",
          "name": "stdout",
          "text": [
            "Sally\n"
          ]
        }
      ]
    },
    {
      "cell_type": "code",
      "source": [
        "def first(listku):\n",
        "  return listku[0]\n",
        "first([1,2,3])\n",
        "first([1,2,3,4,5,6,7,8,9])\n"
      ],
      "metadata": {
        "colab": {
          "base_uri": "https://localhost:8080/"
        },
        "id": "5HdQOGoWYTOI",
        "outputId": "795d0526-f18a-4148-d43f-2ad26de84840"
      },
      "execution_count": 10,
      "outputs": [
        {
          "output_type": "execute_result",
          "data": {
            "text/plain": [
              "1"
            ]
          },
          "metadata": {},
          "execution_count": 10
        }
      ]
    },
    {
      "cell_type": "code",
      "source": [
        "def second(listku):\n",
        "    return listku[1]\n",
        "second([3,2,6,4,11])"
      ],
      "metadata": {
        "colab": {
          "base_uri": "https://localhost:8080/"
        },
        "id": "hRGvRwHxaeFu",
        "outputId": "67ac007c-15f5-4249-ee45-542055f775fe"
      },
      "execution_count": 11,
      "outputs": [
        {
          "output_type": "execute_result",
          "data": {
            "text/plain": [
              "2"
            ]
          },
          "metadata": {},
          "execution_count": 11
        }
      ]
    },
    {
      "cell_type": "code",
      "source": [
        "def Last(listku):\n",
        "  return listku[len(listku)-1]\n",
        "Last([3,4,7,9])\n",
        ""
      ],
      "metadata": {
        "colab": {
          "base_uri": "https://localhost:8080/"
        },
        "id": "p1_y0ZfuakSU",
        "outputId": "35b022a7-ad59-4ac1-9939-6e44309fb046"
      },
      "execution_count": 12,
      "outputs": [
        {
          "output_type": "execute_result",
          "data": {
            "text/plain": [
              "9"
            ]
          },
          "metadata": {},
          "execution_count": 12
        }
      ]
    },
    {
      "cell_type": "code",
      "source": [
        "def jumtotal(listku):\n",
        "  sum=0\n",
        "  for item in listku:\n",
        "    sum = sum+item\n",
        "  return sum\n",
        "\n",
        "jumtotal ([1,2,3,4,])"
      ],
      "metadata": {
        "colab": {
          "base_uri": "https://localhost:8080/"
        },
        "id": "m8k23KCRaqCe",
        "outputId": "81696882-a761-4d88-dd55-3d238f9dd6ac"
      },
      "execution_count": 13,
      "outputs": [
        {
          "output_type": "execute_result",
          "data": {
            "text/plain": [
              "10"
            ]
          },
          "metadata": {},
          "execution_count": 13
        }
      ]
    },
    {
      "cell_type": "code",
      "source": [
        "def kaltol(listku):\n",
        "  sum=1\n",
        "  for item in listku:\n",
        "    sum = sum*item\n",
        "  return sum\n",
        "\n",
        "kaltol ([1,2,3,4])"
      ],
      "metadata": {
        "colab": {
          "base_uri": "https://localhost:8080/"
        },
        "id": "-CJUTaHEasjx",
        "outputId": "cb7d0c76-c949-4d2e-f847-7d7eca9761a3"
      },
      "execution_count": 14,
      "outputs": [
        {
          "output_type": "execute_result",
          "data": {
            "text/plain": [
              "24"
            ]
          },
          "metadata": {},
          "execution_count": 14
        }
      ]
    },
    {
      "cell_type": "code",
      "source": [
        "def kaltol(listku):\n",
        "  sum= 1\n",
        "  for row in listku:\n",
        "    for item in row:\n",
        "      sum= sum*item\n",
        "  return sum\n",
        "kaltol([[1,2,5],[3,4,7]])"
      ],
      "metadata": {
        "colab": {
          "base_uri": "https://localhost:8080/"
        },
        "id": "dQKqm708axx2",
        "outputId": "305b2695-8319-4697-a511-63e0e4687d3e"
      },
      "execution_count": 15,
      "outputs": [
        {
          "output_type": "execute_result",
          "data": {
            "text/plain": [
              "840"
            ]
          },
          "metadata": {},
          "execution_count": 15
        }
      ]
    },
    {
      "cell_type": "code",
      "source": [
        "def kaltol(listku):\n",
        "  sum= 1\n",
        "  for row in listku:\n",
        "    for item in row:\n",
        "      sum= sum*item\n",
        "  return sum\n",
        "kaltol([[1,2,5],[3,4,7]])"
      ],
      "metadata": {
        "colab": {
          "base_uri": "https://localhost:8080/"
        },
        "id": "xBbx0JJUazo9",
        "outputId": "05ab2cec-0598-44fd-bfb0-d57771909890"
      },
      "execution_count": 16,
      "outputs": [
        {
          "output_type": "execute_result",
          "data": {
            "text/plain": [
              "840"
            ]
          },
          "metadata": {},
          "execution_count": 16
        }
      ]
    },
    {
      "cell_type": "code",
      "source": [
        "def bagtol(listku):\n",
        "  sum = 1\n",
        "  for row in listku:\n",
        "    for item in row:\n",
        "      sum = sum/item\n",
        "  return sum\n",
        "bagtol([[1,2,5],[3,4,7]])"
      ],
      "metadata": {
        "colab": {
          "base_uri": "https://localhost:8080/"
        },
        "id": "5MtSIoyja-8z",
        "outputId": "ae2c245b-fca8-4f42-ed40-2e5fad44d614"
      },
      "execution_count": 18,
      "outputs": [
        {
          "output_type": "execute_result",
          "data": {
            "text/plain": [
              "0.0011904761904761904"
            ]
          },
          "metadata": {},
          "execution_count": 18
        }
      ]
    },
    {
      "cell_type": "code",
      "source": [
        "class SetCalculator:\n",
        "    def __init__(self, set1, set2):\n",
        "        self.set1 = set(set1)\n",
        "        self.set2 = set(set2)\n",
        "\n",
        "    def subtract(self):\n",
        "        return self.set1 - self.set2\n",
        "\n",
        "    def getSum(self, set_to_sum=None):\n",
        "        if set_to_sum is None:\n",
        "            set_to_sum = self.set1\n",
        "        return sum(set_to_sum)\n",
        "\n",
        "# Contoh penggunaan:\n",
        "set1 = [1, 2, 3, 4, 5]\n",
        "set2 = [3, 4, 5, 6, 7]\n",
        "\n",
        "calculator = SetCalculator(set1, set2)\n",
        "\n",
        "result_set = calculator.subtract()\n",
        "print(\"Hasil pengurangan:\", result_set)\n",
        "\n",
        "sum_set1 = calculator.getSum(set1)\n",
        "sum_set2 = calculator.getSum(set2)\n",
        "print(\"Jumlah set1:\", sum_set1)\n",
        "print(\"Jumlah set2:\", sum_set2)"
      ],
      "metadata": {
        "colab": {
          "base_uri": "https://localhost:8080/"
        },
        "id": "KpYcHbzjbNLY",
        "outputId": "718264b5-4a04-4115-80be-2ed18222d13d"
      },
      "execution_count": 19,
      "outputs": [
        {
          "output_type": "stream",
          "name": "stdout",
          "text": [
            "Hasil pengurangan: {1, 2}\n",
            "Jumlah set1: 15\n",
            "Jumlah set2: 25\n"
          ]
        }
      ]
    }
  ]
}